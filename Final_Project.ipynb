{
 "cells": [
  {
   "cell_type": "markdown",
   "id": "ae45f495",
   "metadata": {},
   "source": [
    "# STL LaunchCode Women+ Final Project\n",
    "by Hafsa and Nicole"
   ]
  },
  {
   "cell_type": "code",
   "execution_count": null,
   "id": "4492c693",
   "metadata": {},
   "outputs": [],
   "source": [
    "# Dependencies and modules:\n",
    "\n",
    "import numpy as np\n",
    "import pandas as pd\n",
    "import time\n",
    "import os\n",
    "import matplotlib.pyplot as plt\n",
    "import pprint as pp\n",
    "import seaborn as sns\n",
    "import requests\n",
    "import json\n",
    "import html\n",
    "import statistics\n",
    "import psycopg2\n",
    "\n",
    "from numpy import vstack\n",
    "from scipy.stats import randint\n",
    "\n",
    "from statsmodels.formula.api import ols, logit\n",
    "from statsmodels.graphics.mosaicplot import mosaic\n",
    "from sklearn.preprocessing import StandardScaler, PolynomialFeatures\n",
    "from sklearn.feature_selection import RFE\n",
    "from sklearn.model_selection import train_test_split, GridSearchCV, cross_val_score, RepeatedKFold, RandomizedSearchCV\n",
    "from sklearn.linear_model import LinearRegression, LogisticRegression, BayesianRidge\n",
    "from sklearn.metrics import mean_squared_error, r2_score, confusion_matrix\n",
    "from sklearn.neighbors import KNeighborsRegressor\n",
    "from sklearn.ensemble import IsolationForest\n",
    "from torch import Tensor\n",
    "from torch.nn import Linear\n",
    "from torch.nn import Sigmoid\n",
    "from torch.nn import Module\n",
    "from torch.optim import SGD, Adam\n",
    "from torch.nn import MSELoss\n",
    "from torch.nn.init import xavier_uniform_\n",
    "from torch.utils.data import Dataset\n",
    "from torch.utils.data import DataLoader\n",
    "from torch.utils.data import random_split\n",
    "\n",
    "from api import my_api\n",
    "from passwords import my_password\n",
    "\n",
    "# Audible cell-completion notification:\n",
    "from IPython.display import Audio\n",
    "Audio('Bicycle-bell.mp3', autoplay=True)"
   ]
  },
  {
   "cell_type": "markdown",
   "id": "3cffca22",
   "metadata": {},
   "source": [
    "## API Call to Federal Census Database for American Community Survey 5-Year Data (2009-2019)"
   ]
  },
  {
   "cell_type": "markdown",
   "id": "7181e105",
   "metadata": {},
   "source": [
    "We want to identify geographic locations that represent the poorest and most affluent populations. To do this, we will isolate data for % Below Poverty and % with income > $100k per year ($90k per year is the lowest state figure to put a household in the top 20% of earners for that state. $100k represents the closest census income bracket to that value.)"
   ]
  },
  {
   "cell_type": "code",
   "execution_count": null,
   "id": "b18c9aca",
   "metadata": {},
   "outputs": [],
   "source": [
    "# define api key:\n",
    "api_key = my_api\n",
    "\n",
    "# define api base url for :\n",
    "base_url_pov = 'https://api.census.gov/data/2019/acs/acs5/profile?get=group(DP03)&for=county:*&in=state:*' \n",
    "# create response object from an api call request:\n",
    "req1 = requests.get(base_url_pov)\n",
    "print(req1)  # response 200!\n",
    "\n",
    "pov_data = req1.json()\n",
    "Audio('Bicycle-bell.mp3', autoplay=True)"
   ]
  },
  {
   "cell_type": "code",
   "execution_count": null,
   "id": "dcc13d69",
   "metadata": {},
   "outputs": [],
   "source": [
    "poverty = pd.DataFrame(pov_data)\n",
    "# Setting first row as header:\n",
    "poverty.columns = poverty.iloc[0] \n",
    "# Pulling header out of dataframe:\n",
    "poverty = poverty[1:]\n",
    "# Checking results:\n",
    "poverty.head(2)"
   ]
  },
  {
   "cell_type": "markdown",
   "id": "3e8d83e1",
   "metadata": {},
   "source": [
    "## Census Data Feature Selection and Engineering"
   ]
  },
  {
   "cell_type": "markdown",
   "id": "e40dd43b",
   "metadata": {},
   "source": [
    "### Creating dictionary of variable definitions:"
   ]
  },
  {
   "cell_type": "markdown",
   "id": "7dc1cae6",
   "metadata": {},
   "source": [
    "The columns from the Census API are not intuitively labeled. To give context to the data, we will pull definitions of each column label from a Census website variable table document and incorporate that into our dataframe."
   ]
  },
  {
   "cell_type": "code",
   "execution_count": null,
   "id": "290111dc",
   "metadata": {
    "scrolled": true
   },
   "outputs": [],
   "source": [
    "# Displaying variable labels to determine features to keep. Downloaded varables .csv \n",
    "# from census.gov:\n",
    "\n",
    "var_df = pd.read_csv(\"variable_names.csv\")\n",
    "the_vars = var_df.T\n",
    "\n",
    "pd.set_option(\"display.max.rows\", None)\n",
    "pd.set_option('display.max_colwidth', None)\n",
    "the_vars = the_vars.reset_index()\n",
    "\n",
    "\n",
    "# adding state and county variable definitions:\n",
    "state = {'index':'state', 0 : 'state id'}\n",
    "county = {'index': 'county', 0 : 'county id'}\n",
    "\n",
    "# var_defs = the_vars.append(state, ignore_index=True, sort=False)\n",
    "var_defs = pd.concat([the_vars, pd.DataFrame(state, index=[0])], ignore_index=True, sort=False)\n",
    "# var_defs = var_defs.append(county, ignore_index=True, sort=False)\n",
    "var_defs = pd.concat([var_defs, pd.DataFrame(county, index=[0])], ignore_index=True, sort=False)\n",
    "\n",
    "# Removing \"margin of error\" and \"percent margin of error\" rows:\n",
    "vars = var_defs[var_defs[\"index\"].str.contains(\"PE\") == True]\n",
    "geo = var_defs.iloc[np.r_[548:550, 552:554]]\n",
    "our_vars = pd.concat([vars,geo])\n",
    "our_vars = our_vars.reset_index(drop=True)\n",
    "\n",
    "# we want to keep rows concerning \"% of All People Below poverty level\", row 127\n",
    "# and rows concerning Income and Benefits 100,000 to 200,000+, rows 82-84\n",
    "# and rows with geo info, 138-140:\n",
    "our_vars = our_vars.iloc[np.r_[82:85, 127:128, 138:141]]\n",
    "our_var_defs = our_vars[['index', 0]]\n",
    "our_var_defs"
   ]
  },
  {
   "cell_type": "markdown",
   "id": "4232562f",
   "metadata": {},
   "source": [
    "### Using the index column from variables dataframe to slice for rows in the poverty dataframe, then join the two:"
   ]
  },
  {
   "cell_type": "code",
   "execution_count": null,
   "id": "5d27dc5e",
   "metadata": {},
   "outputs": [],
   "source": [
    "# use definitions to identify data columns to keep:\n",
    "columns_to_keep = our_var_defs['index'].to_list()\n",
    "our_poverty = poverty[columns_to_keep]\n",
    "\n",
    "# a dtype check shows all columns to be object type. \n",
    "# cast intuitively numeric columns as numeric:\n",
    "our_pov = our_poverty.copy()\n",
    "our_pov[['DP03_0083PE', 'DP03_0084PE', 'DP03_0085PE', 'DP03_0128PE']] = our_pov[['DP03_0083PE', 'DP03_0084PE', 'DP03_0085PE', 'DP03_0128PE']].apply(pd.to_numeric)\n",
    "\n",
    "# # # Sort by State:\n",
    "op = our_pov.copy()\n",
    "op = op.sort_values('state').reset_index(drop=True)\n",
    "poverty_df = op.copy()\n",
    "\n",
    "# Index reset:\n",
    "poverty_df = poverty_df.reset_index(drop=True)\n",
    "# Remove ' County' from NAME column:\n",
    "names = list(poverty_df['NAME'])\n",
    "names_fixed = []\n",
    "for string in names:\n",
    "    new_names = string.replace(\" County\", \"\")\n",
    "    caps_names = new_names.upper()\n",
    "    names_fixed.append(caps_names)\n",
    "\n",
    "poverty_df['Names_Fixed'] = names_fixed\n",
    "poverty_df.head()"
   ]
  },
  {
   "cell_type": "markdown",
   "id": "1f716286",
   "metadata": {},
   "source": [
    "### We now want to find the three poorest counties and three wealthiest counties per state that we can then match with county-level drinking water violation reports from the EPA."
   ]
  },
  {
   "cell_type": "markdown",
   "id": "8caac801",
   "metadata": {},
   "source": [
    "Steps we will take:\n",
    "1.  Sum values for income >100k columns, then drop original columns\n",
    "2. Sort by state, sort by county, aggregate .nhighest(3) for data columns "
   ]
  },
  {
   "cell_type": "code",
   "execution_count": null,
   "id": "026b2682",
   "metadata": {},
   "outputs": [],
   "source": [
    "# Create new column to sum income bracket columns and drop originals:\n",
    "numpov = poverty_df.copy()\n",
    "numpov['% Wealthy'] = numpov[['DP03_0083PE','DP03_0084PE','DP03_0085PE']].sum(numeric_only=True, axis=1)\n",
    "numpov['% Impoverished'] = numpov['DP03_0128PE']\n",
    "\n",
    "# rename and reorganize columns\n",
    "pov_final = numpov[['Names_Fixed', 'state', 'county', '% Wealthy','% Impoverished']]\n",
    "\n",
    "#sort to get 3 poorest and 3 wealthiest:\n",
    "#sort to get 3 poorest and 3 wealthiest:\n",
    "income= pov_final.groupby('state',as_index=False).apply(lambda x: x.nlargest(3, '% Wealthy')[['Names_Fixed','% Wealthy','% Impoverished','state','county']])\n",
    "poverty = pov_final.groupby('state',as_index=False).apply(lambda x: x.nlargest(3, '% Impoverished')[['Names_Fixed','% Wealthy','% Impoverished','state','county']])\n",
    "poverty_df = pd.DataFrame(poverty)\n",
    "income_df = pd.DataFrame(income)\n",
    "\n",
    "# merge the dataframes then split 'Names_Fixed' into county and state:\n",
    "wealthy_v_poor = pd.merge(income, poverty, how='outer', sort=True)\n",
    "wealthy_v_poor[['County','State']] = wealthy_v_poor['Names_Fixed'].str.split(', ', expand=True)\n",
    "\n",
    "# Organize and sort:\n",
    "wealthy_v_poor = wealthy_v_poor[['State','County','% Wealthy','% Impoverished']].sort_values(['State', '% Wealthy'],ascending=[True,False])\n",
    "wealthy_v_poor = wealthy_v_poor.reset_index(drop=True)\n",
    "wealthy_v_poor.head()"
   ]
  },
  {
   "cell_type": "markdown",
   "id": "1bb1a2a4",
   "metadata": {},
   "source": [
    "Now we are ready to pull drinking water reports for the counties concerned."
   ]
  },
  {
   "cell_type": "markdown",
   "id": "d9d686fa",
   "metadata": {},
   "source": [
    "## API Call to Federal Environmental Protection Agency Safe Drinking Water Information System (2009-2019)"
   ]
  },
  {
   "cell_type": "code",
   "execution_count": null,
   "id": "90658486",
   "metadata": {},
   "outputs": [],
   "source": [
    "# base url for epa.gov SDWIS:\n",
    "base_url_wat = ' https://enviro.epa.gov/enviro/efservice/SDW_VIOL_ENFORCEMENT/COUNTYSERVED/'\n",
    "\n",
    "# taking a random county in New York state as a test case:\n",
    "county= 'CHAUTAUQUA'\n",
    "state_abbr= 'NY'\n",
    "\n",
    "req2 = requests.get(base_url_wat+ f'{county}/STATE/{state_abbr}/JSON')\n",
    "print(req2)  # response 200!\n",
    "\n",
    "#creating a json output of the request object:\n",
    "ny_water = req2.json()"
   ]
  },
  {
   "cell_type": "code",
   "execution_count": null,
   "id": "09bab7ab",
   "metadata": {},
   "outputs": [],
   "source": [
    "# examining json to understand structure for more precise API calls:\n",
    "ny_water"
   ]
  },
  {
   "cell_type": "code",
   "execution_count": null,
   "id": "3ca266c2",
   "metadata": {
    "scrolled": true
   },
   "outputs": [],
   "source": [
    "# creating a dataframe of the SDWIS report to examine available data:\n",
    "ny_df = pd.DataFrame(ny_water)\n",
    "ny_df.head()"
   ]
  },
  {
   "cell_type": "markdown",
   "id": "4ff01a7b",
   "metadata": {},
   "source": [
    "## Process for finding target variable:"
   ]
  },
  {
   "cell_type": "markdown",
   "id": "1b182e04",
   "metadata": {},
   "source": [
    "After careful consideration of the data available, it seemed most reasonable to use the number of drinking water violations reported per county within our date range as the best marker of a geographic area's drinking water quality.\n",
    "\n",
    "Even further, it is necessary to group contaminant analytes into analytical groups to avoid counting a single violation many times. See the process we used below:"
   ]
  },
  {
   "cell_type": "code",
   "execution_count": null,
   "id": "c9c5dc65",
   "metadata": {},
   "outputs": [],
   "source": [
    "# Here we have the counts for each violation recorded for the county.\n",
    "cname_totals = ny_df['CNAME'].value_counts()\n",
    "cname_totals"
   ]
  },
  {
   "cell_type": "code",
   "execution_count": null,
   "id": "423df92f",
   "metadata": {},
   "outputs": [],
   "source": [
    "# Notice, however, that many of the above numbers are identical. That is because,\n",
    "# chemically, these contaminants tend to be found together. It is more meaningful,\n",
    "# then, to not count the violation per individual analytes, but by analyte groups.\n",
    "# Here we find the set of unique analyte group violations:\n",
    "unique_viols = ny_df['CNAME'].value_counts().unique()\n",
    "unique_viols"
   ]
  },
  {
   "cell_type": "code",
   "execution_count": null,
   "id": "d26e7759",
   "metadata": {},
   "outputs": [],
   "source": [
    "# Now we can find the total of those and get a good measure of water quality:\n",
    "total_viols = sum(ny_df['CNAME'].value_counts().unique())\n",
    "total_viols"
   ]
  },
  {
   "cell_type": "markdown",
   "id": "35df99d6",
   "metadata": {},
   "source": [
    "## Crafting an API call to gather desired data:"
   ]
  },
  {
   "cell_type": "markdown",
   "id": "77a98263",
   "metadata": {},
   "source": [
    "While we have determined what our target variable will be, we still want to pull enough other data from the API to provide context for our results. We decided on a set of features we would like to pull from the API and how we wish to iterate through that data to compile a meaningful dataset."
   ]
  },
  {
   "cell_type": "code",
   "execution_count": null,
   "id": "c687cfe3",
   "metadata": {},
   "outputs": [],
   "source": [
    "# Create lists of counties for each state\n",
    "counties_gb = wealthy_v_poor.groupby('State')['County']\n",
    "groups = dict(list(counties_gb))\n",
    "counties_list = []\n",
    "def county_lists():\n",
    "    for state in groups:\n",
    "        counties = groups[state].to_list()\n",
    "        counties_list.append(counties)\n",
    "county_lists()\n",
    "\n",
    "# Creating a dictionary of states and county lists:\n",
    "states = pd.read_csv('state_fips.csv')\n",
    "abrv = states['Abrv'].unique()\n",
    "counties_dict = {}\n",
    "def county_dict():\n",
    "    for key in abrv:\n",
    "        for value in counties_list:\n",
    "            counties_dict[key] = value\n",
    "            counties_list.remove(value)\n",
    "            break \n",
    "county_dict()"
   ]
  },
  {
   "cell_type": "markdown",
   "id": "f36f6efc",
   "metadata": {},
   "source": [
    "#### Testing api call:"
   ]
  },
  {
   "cell_type": "code",
   "execution_count": null,
   "id": "b4c06bb5",
   "metadata": {},
   "outputs": [],
   "source": [
    "# testing\n",
    "ala_dict={'AL':['SHELBY', 'MADISON', 'BALDWIN', 'PERRY', 'SUMTER', 'GREENE']}\n",
    "\n",
    "ala_contaminants = {'State': [], \n",
    "               'County': [], \n",
    "               'Contaminant Name': [],}\n",
    "for key in ala_dict:\n",
    "    \n",
    "    for value in ala_dict[key]:\n",
    "        base_url_wat = 'https://enviro.epa.gov/enviro/efservice/SDW_VIOL_ENFORCEMENT/COUNTYSERVED/'\n",
    "\n",
    "        try:\n",
    "            req2 = requests.get(base_url_wat+ f'{value}/STATE/{key}/JSON')\n",
    "            data = req2.json()\n",
    "            try:\n",
    "                # Getting the state:\n",
    "                for entry in data[0]:\n",
    "                    state = data[0]['STATE']\n",
    "                    ala_contaminants['State'].append(state)\n",
    "                    # Getting the county:\n",
    "                    county = data[0]['COUNTYSERVED']\n",
    "                    ala_contaminants['County'].append(county)\n",
    "                    # Getting the cname:\n",
    "                    name = data[0]['CNAME']\n",
    "                    ala_contaminants['Contaminant Name'].append(name)\n",
    "\n",
    "            except Exception as e:\n",
    "                print(e)\n",
    "\n",
    "        except:\n",
    "            pass\n",
    "\n",
    "data_f = pd.DataFrame({k:pd.Series(v) for k,v in ala_contaminants.items()})\n",
    "data_f        "
   ]
  },
  {
   "cell_type": "code",
   "execution_count": null,
   "id": "b698459b",
   "metadata": {},
   "outputs": [],
   "source": [
    "# Creating an empty dictionary to store our api data:\n",
    "contaminants = {'State': [], \n",
    "               'County': [], \n",
    "               'Contaminant Name': [],\n",
    "               'Contaminant Type': [],\n",
    "               'Enfaction Date': [],\n",
    "               'Sources': [],\n",
    "               'Definition': [],\n",
    "               'Health Effects': []}\n",
    "\n",
    "for key in counties_dict:\n",
    "    for value in counties_dict[key]:\n",
    "        base_url_wat = ' https://enviro.epa.gov/enviro/efservice/SDW_VIOL_ENFORCEMENT/COUNTYSERVED/'\n",
    "\n",
    "        try:\n",
    "            req2 = requests.get(base_url_wat+ f'{value}/STATE/{key}/JSON')\n",
    "            data = req2.json()\n",
    "\n",
    "            try:\n",
    "                for entry in data[0]:\n",
    "                    \n",
    "                    # Getting the state:\n",
    "                    state = data[0]['STATE']\n",
    "                    contaminants['State'].append(state)\n",
    "                    \n",
    "                    # Getting the county:\n",
    "                    county = data[0]['COUNTYSERVED']\n",
    "                    contaminants['County'].append(county)\n",
    "                    \n",
    "                    # Getting the cname:\n",
    "                    name = data[0]['CNAME']\n",
    "                    contaminants['Contaminant Name'].append(name)\n",
    "\n",
    "                    # Getting the ctype:\n",
    "                    type = data[0]['CTYPE']\n",
    "                    contaminants['Contaminant Type'].append(type)\n",
    "\n",
    "                    # Getting the edate:\n",
    "                    date = data[0]['ENFDATE']\n",
    "                    contaminants['Enfaction Date'].append(date)\n",
    "\n",
    "                    # Getting the sources:\n",
    "                    source = data[0]['SOURCES']\n",
    "                    contaminants['Sources'].append(source)\n",
    "\n",
    "                    # Getting the definition:\n",
    "                    defs = data[0]['DEFINITION']\n",
    "                    contaminants['Definition'].append(defs)\n",
    "\n",
    "                    # Getting the health:\n",
    "                    effects = data[0]['HEALTH_EFFECTS']\n",
    "                    contaminants['Health Effects'].append(effects)             \n",
    "\n",
    "            except Exception as e:\n",
    "                print(e)\n",
    "\n",
    "        except:\n",
    "            pass\n",
    "\n",
    "violation_df = pd.DataFrame({k:pd.Series(v) for k,v in contaminants.items()})\n",
    "violation_df.set_index(\"State\",inplace=True)     \n",
    "violation_df\n",
    "Audio('Bicycle-bell.mp3', autoplay=True)"
   ]
  },
  {
   "cell_type": "code",
   "execution_count": null,
   "id": "5c1546f2",
   "metadata": {},
   "outputs": [],
   "source": [
    "# Getting columns for county and violation sums:\n",
    "viols = violation_df.groupby('County')['CNAME'].agg(pd.Series.nunique, pd.Series.count, 'sum')\n",
    "viols"
   ]
  },
  {
   "cell_type": "code",
   "execution_count": null,
   "id": "1b64bc46",
   "metadata": {},
   "outputs": [],
   "source": [
    "viols_df = pd.DataFrame(viols)\n",
    "viols_df.rename(columns = {'CNAME':'Violations'})\n",
    "viols_df"
   ]
  },
  {
   "cell_type": "code",
   "execution_count": null,
   "id": "8c58d0f9",
   "metadata": {},
   "outputs": [],
   "source": [
    "# Pulling counties out of df:\n",
    "counties = violation_df['County'].unique()\n",
    "counties"
   ]
  },
  {
   "cell_type": "code",
   "execution_count": null,
   "id": "4570b175",
   "metadata": {},
   "outputs": [],
   "source": [
    "# creating a new df:\n",
    "county_viols = pd.concat([counties,viols_df])\n",
    "county_viols"
   ]
  },
  {
   "cell_type": "code",
   "execution_count": null,
   "id": "6afb2125",
   "metadata": {},
   "outputs": [],
   "source": [
    "# Creating a violation reference dataframe to aid understanding:\n",
    "reference_df = violation_df[['Contaminant Name','Sources','Definition','Health Effects']]\n",
    "reference_df = reference_df.drop_duplicates(subset= 'Contaminant Name', inplace=True)\n",
    "reference_df"
   ]
  },
  {
   "cell_type": "markdown",
   "id": "48f885b9",
   "metadata": {},
   "source": [
    "## Combine census data with water data:"
   ]
  },
  {
   "cell_type": "code",
   "execution_count": null,
   "id": "7338c5e5",
   "metadata": {},
   "outputs": [],
   "source": [
    "# join the dataframes:\n",
    "dw_qual = pd.merge(wealthy_v_poor, county_viols, on='County', sort=True)\n",
    "dw_qual"
   ]
  },
  {
   "cell_type": "code",
   "execution_count": null,
   "id": "73a5b530",
   "metadata": {},
   "outputs": [],
   "source": [
    "# Removing rows where we have no water data:\n",
    "dw_qual = dw_qual.dropna()\n",
    "dw_qual"
   ]
  },
  {
   "cell_type": "markdown",
   "id": "b69c1b58",
   "metadata": {},
   "source": [
    "## We now have viable datasets. We can store them in a SQL database for convienient examination and manipulation."
   ]
  },
  {
   "cell_type": "markdown",
   "id": "45270ea9",
   "metadata": {},
   "source": [
    "#### Transfering the organized data from python to PostgreSQL database with a psycopg2 connection:"
   ]
  },
  {
   "cell_type": "code",
   "execution_count": null,
   "id": "f8f27462",
   "metadata": {},
   "outputs": [],
   "source": [
    "# remove commas from dataframes to avoid errors when converting to .csv:\n",
    "violation_nocomma = violation_df.str.replace(', ', '')\n",
    "violation_nocomma"
   ]
  },
  {
   "cell_type": "code",
   "execution_count": null,
   "id": "5bcf6dac",
   "metadata": {},
   "outputs": [],
   "source": [
    "# remove commas from dataframes to avoid errors when converting to .csv:\n",
    "reference_nocomma = reference_df.str.replace(', ', '')\n",
    "reference_nocomma"
   ]
  },
  {
   "cell_type": "code",
   "execution_count": null,
   "id": "40f3ebbc",
   "metadata": {},
   "outputs": [],
   "source": [
    "# convert all DataFrames into .csv files for loading into Postgres:\n",
    "wealthy_v_poor.to_csv('wealthy_v_poor.csv', index= False)\n",
    "violation_df.to_csv('violation_df.csv', index= False)\n",
    "dw_qual.to_csv('dw_qual.csv', index= False)\n",
    "reference_df.to_csv('reference_df.csv', index=False)"
   ]
  },
  {
   "cell_type": "code",
   "execution_count": null,
   "id": "15a40fdc",
   "metadata": {},
   "outputs": [],
   "source": [
    "#in PostgreSQL, create a new database named Final_Project to add new table to, and use psycopg2 to connect to it:\n",
    "conn = psycopg2.connect(dbname='project_2', user='postgres', password=my_password)\n",
    "#create a cursor object to perform database operations\n",
    "cursor= conn.cursor()"
   ]
  },
  {
   "cell_type": "markdown",
   "id": "e1911ec4",
   "metadata": {},
   "source": [
    "#### Create a series of queries to create and populate database tables:"
   ]
  },
  {
   "cell_type": "code",
   "execution_count": null,
   "id": "d7fa96bb",
   "metadata": {},
   "outputs": [],
   "source": [
    "#command to create a table\n",
    "cursor.execute(\"DROP TABLE IF EXISTS wealthy_v_poor\")\n",
    "table1=(\"\"\"CREATE TABLE wealthy_v_poor(\n",
    "\tState text,\n",
    "\tCounty text,\n",
    "\t% Wealthy float,\n",
    "    % Impoverished float\n",
    "    )\"\"\")\n",
    "#execute command\n",
    "cursor.execute(table1)"
   ]
  },
  {
   "cell_type": "code",
   "execution_count": null,
   "id": "5c28fd6c",
   "metadata": {},
   "outputs": [],
   "source": [
    "#use copy from to input values from csv into postgres table\n",
    "with open('wealthy_v_poor.csv', 'r') as f:\n",
    "    next(f) # Skip the header row.\n",
    "    cursor.copy_from(f, 'wealthy_v_poor', sep=',')"
   ]
  },
  {
   "cell_type": "code",
   "execution_count": null,
   "id": "b32ef99f",
   "metadata": {},
   "outputs": [],
   "source": [
    "#commit the table\n",
    "conn.commit()"
   ]
  },
  {
   "cell_type": "code",
   "execution_count": null,
   "id": "03fca2b9",
   "metadata": {},
   "outputs": [],
   "source": [
    "cursor.execute(\"DROP TABLE IF EXISTS violation_df\")\n",
    "table2=(\"\"\"CREATE TABLE violation_df(\n",
    "\tState text,\n",
    "\tCounty text,\n",
    "    Contaminant Name text,\n",
    "    Enfaction Date varchar,\n",
    "    Sources text,\n",
    "    Definition text,\n",
    "\tHealth Effects text\n",
    "    )\"\"\")\n",
    "cursor.execute(table2)"
   ]
  },
  {
   "cell_type": "code",
   "execution_count": null,
   "id": "498d44f6",
   "metadata": {},
   "outputs": [],
   "source": [
    "with open('violation_df.csv', 'r') as f:\n",
    "    next(f)\n",
    "    cursor.copy_from(f, 'violation_df', sep=',')"
   ]
  },
  {
   "cell_type": "code",
   "execution_count": null,
   "id": "65210d64",
   "metadata": {},
   "outputs": [],
   "source": [
    "conn.commit()"
   ]
  },
  {
   "cell_type": "code",
   "execution_count": null,
   "id": "6a1b5e42",
   "metadata": {},
   "outputs": [],
   "source": [
    "cursor.execute(\"DROP TABLE IF EXISTS dw_qual\")\n",
    "table3=(\"\"\"CREATE TABLE dw_qual(\n",
    "\tState text,\n",
    "\tCounty text,\n",
    "\t% Wealthy float,\n",
    "    % Impoverished float,\n",
    "    Violations int\n",
    "    \n",
    "    )\"\"\")\n",
    "cursor.execute(table3)"
   ]
  },
  {
   "cell_type": "code",
   "execution_count": null,
   "id": "9b857513",
   "metadata": {},
   "outputs": [],
   "source": [
    "with open('dw_qual.csv', 'r') as f:\n",
    "    next(f)\n",
    "    cursor.copy_from(f, 'dw_qual', sep=',')\n",
    "\n",
    "conn.commit()"
   ]
  },
  {
   "cell_type": "code",
   "execution_count": null,
   "id": "7a7f6cd3",
   "metadata": {},
   "outputs": [],
   "source": [
    "cursor.execute(\"DROP TABLE IF EXISTS reference_df\")\n",
    "table4=(\"\"\"CREATE TABLE reference_df(\n",
    "\tContaminant Name text,\n",
    "\tSources text,\n",
    "\tDefinition text,\n",
    "    Health Effects text\n",
    "    )\"\"\")\n",
    "cursor.execute(table4)"
   ]
  },
  {
   "cell_type": "code",
   "execution_count": null,
   "id": "7c4e7817",
   "metadata": {},
   "outputs": [],
   "source": [
    "with open('reference_df.csv', 'r') as f:\n",
    "    next(f)\n",
    "    cursor.copy_from(f, 'reference_df', sep=',')\n",
    "\n",
    "conn.commit()"
   ]
  },
  {
   "cell_type": "markdown",
   "id": "66ebaaf7",
   "metadata": {},
   "source": [
    "### Our python data has been extracted, transformed, and loaded into a SQL database within PostgreSQL.\n",
    "### The data can now be explored with SQL queries executed in python."
   ]
  },
  {
   "attachments": {
    "Data_Model.JPG": {
     "image/jpeg": "[encoded data removed]"
    }
   },
   "cell_type": "markdown",
   "id": "aeea7ef6",
   "metadata": {},
   "source": [
    "![Data_Model.JPG](attachment:Data_Model.JPG)"
   ]
  },
  {
   "cell_type": "markdown",
   "id": "860c6c2e",
   "metadata": {},
   "source": [
    "# Modeling the data and making predictions:"
   ]
  },
  {
   "cell_type": "markdown",
   "id": "122ea491",
   "metadata": {},
   "source": [
    "This is a straightforward dataset, so we want to see how well a basic regressions model works. We will use Multiple Linear Regression. However, there could be some sublte interplay between the variables that isn't immediately apparent, so we also want to see how a neural network performs. We will use a Keras regression model."
   ]
  },
  {
   "cell_type": "code",
   "execution_count": null,
   "id": "0d39821c",
   "metadata": {},
   "outputs": [],
   "source": [
    "# We want to take a peek at the kind of correlation we have:\n",
    "for_modeling = dw_qual['% Wealthy','% Impoverished', 'Violations']\n",
    "correlation = for_modeling.corr(numeric_only=True)\n",
    "f, ax = plt.subplots(figsize=(18,12))\n",
    "sns.heatmap(correlation, annot=True, cmap=\"viridis\")\n",
    "ax.set_title('Correlation between Wealth, Poverty, and Drinking Water Quality')"
   ]
  },
  {
   "cell_type": "markdown",
   "id": "65a936fb",
   "metadata": {},
   "source": [
    "### Preprocessing:"
   ]
  },
  {
   "cell_type": "code",
   "execution_count": null,
   "id": "23b97440",
   "metadata": {},
   "outputs": [],
   "source": [
    "# Before we use regression, we want to check the variance on our dataset:\n",
    "dw_qual.var(numeric_only=True)\n",
    "# Variance is pretty low across the dataset."
   ]
  },
  {
   "cell_type": "code",
   "execution_count": null,
   "id": "e576aa0d",
   "metadata": {},
   "outputs": [],
   "source": [
    "# Drop non-numeric columns, then prepare our X and y:\n",
    "X = dw_qual['% Wealthy','% Impoverished'].values\n",
    "y = dw_qual['Violations'].values\n",
    "\n",
    "# Split into training and test sets:\n",
    "X_train, X_test, y_train, y_test = train_test_split(X, y, test_size = 0.33, random_state=42)"
   ]
  },
  {
   "cell_type": "markdown",
   "id": "8ac51c55",
   "metadata": {},
   "source": [
    "# Multiple Linear Regression:"
   ]
  },
  {
   "cell_type": "code",
   "execution_count": null,
   "id": "f4a0626b",
   "metadata": {},
   "outputs": [],
   "source": [
    "# instantiate the classifier and fit the model:\n",
    "lr = LinearRegression()\n",
    "lr.fit(X_train, y_train)\n",
    "# evaluate the model\n",
    "y_pred= lr.predict(X_test)\n",
    "y_pred"
   ]
  },
  {
   "cell_type": "code",
   "execution_count": null,
   "id": "3b5ad77a",
   "metadata": {},
   "outputs": [],
   "source": [
    "# Evaluate the performance:\n",
    "# root-squared error:\n",
    "rsq = r2_score(y_test, y_pred)\n",
    "\n",
    "# mean squared error\n",
    "mse = mean_squared_error(y_test, y_pred)\n",
    "\n",
    "print(\"MSE = \"+str(mse))\n",
    "print(\"R^2 value = \"+str(rsq))"
   ]
  },
  {
   "cell_type": "markdown",
   "id": "eafb563d",
   "metadata": {},
   "source": [
    "#### Plotting the regression:"
   ]
  },
  {
   "cell_type": "code",
   "execution_count": null,
   "id": "0aad5872",
   "metadata": {},
   "outputs": [],
   "source": [
    "# To pass ndarrays to Seaborn, we make one dataset from them first:\n",
    "\n",
    "# Converting two 1D arrays into a single 2D array:\n",
    "one_array = np.column_stack((X_test,y_pred))\n",
    "\n",
    "# Make a dataframe from the 2D array:\n",
    "prediction_data = pd.DataFrame(one_array, columns=['test_poverty','pred_qual'])\n",
    "prediction_data.head(2)"
   ]
  },
  {
   "cell_type": "code",
   "execution_count": null,
   "id": "fdcab7bc",
   "metadata": {},
   "outputs": [],
   "source": [
    "#Plotting the data using sns:\n",
    "plt.figure(figsize=(18,12))\n",
    "sns.scatterplot(data=for_modeling, x='Violations', y='% Impoverished', hue='% Impoverished', palette='viridis', legend=False,edgecolor='slategray')\n",
    "plt.title('Poverty vs. Drinking Water Quality')\n",
    "plt.xlabel('Number of Violations')\n",
    "plt.ylabel('% Citizens Impoverished in that County')\n",
    "\n",
    "#Plotting the prediction:\n",
    "sns.lineplot(data= prediction_data, x='test_poverty', y='pred_qual', legend='brief')\n",
    "plt.legend(title='Multiple Linear Regression', loc='upper left', labels=['Predicted Quality','True Value'])\n",
    "plt.show();"
   ]
  },
  {
   "cell_type": "markdown",
   "id": "74fb6b99",
   "metadata": {},
   "source": [
    "# Polynomial Regression:"
   ]
  },
  {
   "cell_type": "code",
   "execution_count": null,
   "id": "b161e5af",
   "metadata": {},
   "outputs": [],
   "source": [
    "# instantiate my polynomial features object:\n",
    "pn = PolynomialFeatures(degree = 2, include_bias=False)\n",
    "\n",
    "#create new variables based off my previous t_t_s:\n",
    "X_train_pn = pn.fit_transform(X_train)\n",
    "X_test_pn = pn.fit_transform(X_test) \n",
    "\n",
    "# use linear regression on the model that should now have polynomial features:\n",
    "pn.fit(X_train_pn,y_train)\n",
    "lr_pn = LinearRegression()\n",
    "lr_pn.fit(X_train_pn, y_train)\n",
    "\n",
    "# create new y predictions with the X_test polynomials:\n",
    "y_pn_pred = lr_pn.predict(pn.fit_transform(X_test))\n",
    "y_pn_pred"
   ]
  },
  {
   "cell_type": "code",
   "execution_count": null,
   "id": "d26a0f27",
   "metadata": {},
   "outputs": [],
   "source": [
    "# Evaluate the model:\n",
    "#R^2\n",
    "pn_rsq = r2_score(y_test, y_pn_pred)\n",
    "\n",
    "#mean squared error\n",
    "pn_mse = mean_squared_error(y_test, y_pn_pred)\n",
    "\n",
    "print(\"MSE = \"+str(pn_mse))\n",
    "print(\"R^2 value = \"+str(pn_rsq))"
   ]
  },
  {
   "cell_type": "code",
   "execution_count": null,
   "id": "7f29d4c9",
   "metadata": {},
   "outputs": [],
   "source": [
    "# Visualize the regression:\n",
    "# Converting two 1D arrays into a single 2D array:\n",
    "one_array = np.column_stack((X_test,y_pn_pred))\n",
    "\n",
    "# Make a dataframe from the 2D array:\n",
    "polynomial_data = pd.DataFrame(one_array, columns=['test_poverty','pn_pred_qual'])\n",
    "polynomial_data.head(2)"
   ]
  },
  {
   "cell_type": "code",
   "execution_count": null,
   "id": "6e6d0094",
   "metadata": {},
   "outputs": [],
   "source": [
    "#Plotting the data using sns:\n",
    "plt.figure(figsize=(18,12))\n",
    "sns.scatterplot(data=for_modeling, x='Violations', y='% Impoverished', hue='% Impoverished', palette='viridis', legend=False,edgecolor='slategray')\n",
    "plt.title('Poverty vs. Drinking Water Quality')\n",
    "plt.xlabel('Number of Violations')\n",
    "plt.ylabel('% Citizens Impoverished in that County')\n",
    "\n",
    "#Plotting the prediction:\n",
    "sns.lineplot(data= polynomial_data, x='test_poverty', y='pn_pred_qual', legend='brief')\n",
    "plt.legend(title='Polynomial Regression', loc='upper left', labels=['Predicted Quality','True Value'])\n",
    "plt.show();"
   ]
  },
  {
   "cell_type": "markdown",
   "id": "d710fa7a",
   "metadata": {},
   "source": [
    "# Modeling with PyTorch Neural Network:"
   ]
  },
  {
   "cell_type": "code",
   "execution_count": null,
   "id": "31e179f1",
   "metadata": {},
   "outputs": [],
   "source": [
    "# using method from https://machinelearningmastery.com/pytorch-tutorial-develop-deep-learning-models/\n",
    "\n",
    "# Make the dataset into a Class with a torch function: \n",
    "class DW_Quality(Dataset):\n",
    "    # load the dataset with a function: \n",
    "    def __init__(self, wq_path):\n",
    "        # load the csv file as a dataframe\n",
    "        water_q = pd.read_csv(wq_path, header=None)\n",
    "        # store the inputs and outputs\n",
    "        self.X = water_q.values[:, :-1].astype('float32')\n",
    "        self.y = water_q.values[:, -1].astype('float32')\n",
    "        # ensure target has the right shape\n",
    "        self.y = self.y.reshape((len(self.y), 1))\n",
    " \n",
    "    # setting number of rows in the dataset:\n",
    "    def __len__(self):\n",
    "        return len(self.X)\n",
    " \n",
    "     # function to get a row at a particular index:\n",
    "    def __getitem__(self, idx):\n",
    "        return [self.X[idx], self.y[idx]]\n",
    " \n",
    "    # function to get indexes for the train and test rows from random_split:\n",
    "    def get_splits(self, n_test=0.33):\n",
    "        # determine sizes, like, with math.\n",
    "        test_size = round(n_test * len(self.X))\n",
    "        train_size = len(self.X) - test_size\n",
    "        return random_split(self, [train_size, test_size])\n",
    "    \n",
    "# Audible cell-completion notification:\n",
    "Audio('Bicycle-bell.mp3', autoplay=True)"
   ]
  },
  {
   "cell_type": "code",
   "execution_count": null,
   "id": "15b5ff24",
   "metadata": {},
   "outputs": [],
   "source": [
    "# defining the model:\n",
    "class wq_MLP(Module):\n",
    "    # choose elements for the model:\n",
    "    def __init__(self, n_inputs):\n",
    "        super(MLP, self).__init__()\n",
    "        # design first hidden layer:\n",
    "        self.hidden1 = Linear(n_inputs, 10)\n",
    "        # using the xavier_uniform_ torch function to set tensors\n",
    "        xavier_uniform_(self.hidden1.weight)\n",
    "        self.act1 = Sigmoid()\n",
    "        # SECOND hidden layer:\n",
    "        self.hidden2 = Linear(10, 8)\n",
    "        xavier_uniform_(self.hidden2.weight)\n",
    "        self.act2 = Sigmoid()\n",
    "        # THIRD hidden layer and OUTPUT:\n",
    "        self.hidden3 = Linear(8, 1)\n",
    "        xavier_uniform_(self.hidden3.weight)\n",
    " \n",
    "    # Forward propogation input:\n",
    "    def forward(self, X):\n",
    "        # input to first hidden layer\n",
    "        X = self.hidden1(X)\n",
    "        X = self.act1(X)\n",
    "         # second hidden layer\n",
    "        X = self.hidden2(X)\n",
    "        X = self.act2(X)\n",
    "        # third hidden layer and output\n",
    "        X = self.hidden3(X)\n",
    "        return X\n",
    "    \n",
    "# Audible cell-completion notification:\n",
    "Audio('Bicycle-bell.mp3', autoplay=True)"
   ]
  },
  {
   "cell_type": "code",
   "execution_count": null,
   "id": "1755606f",
   "metadata": {},
   "outputs": [],
   "source": [
    "# Preparing the dataset:\n",
    "def prepare_pp_data(wq_path):\n",
    "    # load the dataset\n",
    "    dataset = DW_Quality(wq_path)\n",
    "    # get split:\n",
    "    train, test = dataset.get_splits()\n",
    "    # use data loaders:\n",
    "    train_dl = DataLoader(train, batch_size=32, shuffle=True)\n",
    "    test_dl = DataLoader(test, batch_size=1400, shuffle=False)\n",
    "    return train_dl, test_dl\n",
    " \n",
    "# train the model\n",
    "def train_model(train_dl, wq_model):\n",
    "    # choosing my optimization:\n",
    "    criterion = MSELoss()\n",
    "    optimizer = Adam(wq_model.parameters(), lr=0.01)\n",
    "    # enumerate epochs\n",
    "    for epoch in range(800):\n",
    "        # enumerate mini batches\n",
    "        torch_loss_values = list()\n",
    "        for i, (inputs, targets) in enumerate(train_dl):\n",
    "            # reset the gradients\n",
    "            optimizer.zero_grad()\n",
    "            # get output\n",
    "            y_torch_pred = wq_model(inputs)\n",
    "            # find loss\n",
    "            loss = criterion(y_torch_pred, targets)\n",
    "            # store final value:\n",
    "            torch_loss_values.append(loss)\n",
    "            # fire up backward propogation:\n",
    "            loss.backward()\n",
    "            # update model weights\n",
    "            optimizer.step()\n",
    "    torch_final_loss = torch_loss_values[-1]\n",
    "    return torch_final_loss\n",
    "\n",
    "# Audible cell-completion notification:\n",
    "Audio('Bicycle-bell.mp3', autoplay=True)"
   ]
  },
  {
   "cell_type": "code",
   "execution_count": null,
   "id": "87a8ae7c",
   "metadata": {},
   "outputs": [],
   "source": [
    " # EVALUATE! :D\n",
    "def evaluate_model(test_dl, wq_model):\n",
    "    predictions, actuals = list(), list()\n",
    "    for i, (inputs, targets) in enumerate(test_dl):\n",
    "        # run the test set!\n",
    "        y_torch_pred = wq_model(inputs)\n",
    "        # generate an array\n",
    "        y_torch_pred = y_torch_pred.detach().numpy()\n",
    "        actual = targets.numpy()\n",
    "        actual = actual.reshape((len(actual), 1))\n",
    "        # store in the lists:\n",
    "        predictions.append(y_torch_pred)\n",
    "        actuals.append(actual)\n",
    "    predictions, actuals = vstack(predictions), vstack(actuals)\n",
    "    # Get metrics:\n",
    "    torch_rmse = np.sqrt(mean_squared_error(actuals, predictions))\n",
    "    return torch_rmse\n",
    "\n",
    "# Audible cell-completion notification:\n",
    "Audio('Bicycle-bell.mp3', autoplay=True)"
   ]
  },
  {
   "cell_type": "code",
   "execution_count": null,
   "id": "a0c93bc3",
   "metadata": {},
   "outputs": [],
   "source": [
    "# CALLING ALL FUNCTIONS! ALL ABOARD! LEAVING THE STATION!:\n",
    "\n",
    "wq_path = 'dw_qual.csv'\n",
    "train_dl, test_dl = prepare_data(wq_path)\n",
    "\n",
    "# define the network\n",
    "wq_model = MLP(5)\n",
    "\n",
    "# train the model\n",
    "train_model(train_dl, wq_model)\n",
    "\n",
    "# evaluate the model\n",
    "torch_rmse = evaluate_model(test_dl, wq_model)\n",
    "torch_final_loss = train_model(train_dl, wq_model)\n",
    "print('RMSE: %.4f, Loss: %.5f' % (torch_rmse, torch_final_loss))\n",
    "\n",
    "# Audible cell-completion notification:\n",
    "Audio('Bicycle-bell.mp3', autoplay=True)"
   ]
  },
  {
   "cell_type": "markdown",
   "id": "446b5c60",
   "metadata": {},
   "source": [
    "# Conclusions:\n",
    "\n",
    "conclusion, conslusion, yep, yep\n",
    "\n",
    "We know we avoided overfitting or underfitting because ...."
   ]
  }
 ],
 "metadata": {
  "kernelspec": {
   "display_name": "Python 3 (ipykernel)",
   "language": "python",
   "name": "python3"
  },
  "language_info": {
   "codemirror_mode": {
    "name": "ipython",
    "version": 3
   },
   "file_extension": ".py",
   "mimetype": "text/x-python",
   "name": "python",
   "nbconvert_exporter": "python",
   "pygments_lexer": "ipython3",
   "version": "3.9.7"
  }
 },
 "nbformat": 4,
 "nbformat_minor": 5
}
